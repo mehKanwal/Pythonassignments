{
 "cells": [
  {
   "cell_type": "markdown",
   "id": "ec6c29e9",
   "metadata": {},
   "source": [
    "# conditional statement\n",
    " type casting,\n",
    " user input,\n",
    " if statement,\n",
    " elif statement,\n",
    " multiple if statement,\n",
    " nested if statement"
   ]
  },
  {
   "cell_type": "markdown",
   "id": "89829660",
   "metadata": {},
   "source": [
    "# Type Casting"
   ]
  },
  {
   "cell_type": "code",
   "execution_count": 7,
   "id": "c76ab0ee",
   "metadata": {},
   "outputs": [],
   "source": [
    "# int,float, str, bool \n",
    "marks=95"
   ]
  },
  {
   "cell_type": "code",
   "execution_count": 8,
   "id": "caaa2331",
   "metadata": {},
   "outputs": [
    {
     "name": "stdout",
     "output_type": "stream",
     "text": [
      "<class 'int'>\n"
     ]
    }
   ],
   "source": [
    "print(type(marks))"
   ]
  },
  {
   "cell_type": "code",
   "execution_count": 6,
   "id": "69db07a7",
   "metadata": {},
   "outputs": [
    {
     "ename": "SyntaxError",
     "evalue": "invalid syntax (3710155880.py, line 1)",
     "output_type": "error",
     "traceback": [
      "\u001b[1;36m  Input \u001b[1;32mIn [6]\u001b[1;36m\u001b[0m\n\u001b[1;33m    float_ marks =float(marks)\u001b[0m\n\u001b[1;37m           ^\u001b[0m\n\u001b[1;31mSyntaxError\u001b[0m\u001b[1;31m:\u001b[0m invalid syntax\n"
     ]
    }
   ],
   "source": [
    "             "
   ]
  },
  {
   "cell_type": "code",
   "execution_count": 9,
   "id": "db26080b",
   "metadata": {},
   "outputs": [
    {
     "data": {
      "text/plain": [
       "95.0"
      ]
     },
     "execution_count": 9,
     "metadata": {},
     "output_type": "execute_result"
    }
   ],
   "source": [
    "float_marks=float(marks)                                       \n",
    "float_marks"
   ]
  },
  {
   "cell_type": "code",
   "execution_count": 10,
   "id": "a5940b0d",
   "metadata": {},
   "outputs": [
    {
     "data": {
      "text/plain": [
       "float"
      ]
     },
     "execution_count": 10,
     "metadata": {},
     "output_type": "execute_result"
    }
   ],
   "source": [
    "percentage= 85.23          \n",
    "type(percentage)"
   ]
  },
  {
   "cell_type": "code",
   "execution_count": 11,
   "id": "8993f495",
   "metadata": {},
   "outputs": [
    {
     "data": {
      "text/plain": [
       "85"
      ]
     },
     "execution_count": 11,
     "metadata": {},
     "output_type": "execute_result"
    }
   ],
   "source": [
    "int_percentage =int(percentage)          \n",
    "int_percentage"
   ]
  },
  {
   "cell_type": "markdown",
   "id": "7e7a973b",
   "metadata": {},
   "source": [
    "# string concatenation \n",
    "   joining of two string together!"
   ]
  },
  {
   "cell_type": "code",
   "execution_count": 12,
   "id": "058b4020",
   "metadata": {},
   "outputs": [],
   "source": [
    "fname=\"mehwish\" \n",
    "lname=\"kanwal\""
   ]
  },
  {
   "cell_type": "code",
   "execution_count": 13,
   "id": "fe06b5d9",
   "metadata": {},
   "outputs": [
    {
     "data": {
      "text/plain": [
       "'mehwishkanwal'"
      ]
     },
     "execution_count": 13,
     "metadata": {},
     "output_type": "execute_result"
    }
   ],
   "source": [
    "fname+lname"
   ]
  },
  {
   "cell_type": "code",
   "execution_count": 17,
   "id": "94168c81",
   "metadata": {},
   "outputs": [
    {
     "data": {
      "text/plain": [
       "'pakistanzindabad'"
      ]
     },
     "execution_count": 17,
     "metadata": {},
     "output_type": "execute_result"
    }
   ],
   "source": [
    "\"pakistan\"+\"zindabad\""
   ]
  },
  {
   "cell_type": "code",
   "execution_count": 15,
   "id": "a7e864b6",
   "metadata": {},
   "outputs": [
    {
     "data": {
      "text/plain": [
       "'asad45'"
      ]
     },
     "execution_count": 15,
     "metadata": {},
     "output_type": "execute_result"
    }
   ],
   "source": [
    "'asad'+ str(45)"
   ]
  },
  {
   "cell_type": "code",
   "execution_count": 2,
   "id": "a8e6d639",
   "metadata": {},
   "outputs": [
    {
     "name": "stdout",
     "output_type": "stream",
     "text": [
      "enter your nameAsad\n",
      "enter your year of birth2000\n",
      "your name isAsadand your year of birth is2000\n"
     ]
    }
   ],
   "source": [
    "name = input('enter your name')  \n",
    "y_o_b = input('enter your year of birth')  \n",
    "# year of birth although a integer value \n",
    "# but due to console input it will be assiged as string value \n",
    "\n",
    "\n",
    "\n",
    "print(\"your name is\" +name+\"and your year of birth is\"+ y_o_b)  \n",
    "\n",
    "# \"your name is Ali ang your year of birth is 2000\"\n",
    "\n",
    "\n",
    "\n"
   ]
  },
  {
   "cell_type": "code",
   "execution_count": 3,
   "id": "7a93e1dc",
   "metadata": {},
   "outputs": [
    {
     "name": "stdout",
     "output_type": "stream",
     "text": [
      "enter your namehasan\n",
      "enter your age35\n"
     ]
    }
   ],
   "source": [
    "student_name=input(\"enter your name\") \n",
    "student_age= input(\"enter your age\")\n",
    "                   "
   ]
  },
  {
   "cell_type": "code",
   "execution_count": 4,
   "id": "9e7d0df8",
   "metadata": {},
   "outputs": [
    {
     "ename": "TypeError",
     "evalue": "can only concatenate str (not \"int\") to str",
     "output_type": "error",
     "traceback": [
      "\u001b[1;31m---------------------------------------------------------------------------\u001b[0m",
      "\u001b[1;31mTypeError\u001b[0m                                 Traceback (most recent call last)",
      "Input \u001b[1;32mIn [4]\u001b[0m, in \u001b[0;36m<cell line: 1>\u001b[1;34m()\u001b[0m\n\u001b[1;32m----> 1\u001b[0m \u001b[43mstudent_age\u001b[49m\u001b[38;5;241;43m+\u001b[39;49m\u001b[43m \u001b[49m\u001b[38;5;241;43m10\u001b[39;49m\n",
      "\u001b[1;31mTypeError\u001b[0m: can only concatenate str (not \"int\") to str"
     ]
    }
   ],
   "source": [
    "student_age+ 10"
   ]
  },
  {
   "cell_type": "code",
   "execution_count": 5,
   "id": "21cba3f6",
   "metadata": {},
   "outputs": [
    {
     "name": "stdout",
     "output_type": "stream",
     "text": [
      "enter your nameFahad\n",
      "enter your age40\n"
     ]
    }
   ],
   "source": [
    "student_name =input(\"enter your name\") \n",
    "student_age= int(input(\"enter your age\"))"
   ]
  },
  {
   "cell_type": "code",
   "execution_count": 10,
   "id": "2f5a1fdc",
   "metadata": {},
   "outputs": [
    {
     "data": {
      "text/plain": [
       "20"
      ]
     },
     "execution_count": 10,
     "metadata": {},
     "output_type": "execute_result"
    }
   ],
   "source": [
    "student_age+10\n",
    "# int       int"
   ]
  },
  {
   "cell_type": "code",
   "execution_count": 12,
   "id": "d0039d19",
   "metadata": {},
   "outputs": [
    {
     "name": "stdout",
     "output_type": "stream",
     "text": [
      "enter your age40.5\n"
     ]
    }
   ],
   "source": [
    "student_age =int(float(input(\"enter your age\")))# 40.5"
   ]
  },
  {
   "cell_type": "code",
   "execution_count": 13,
   "id": "3360dfb0",
   "metadata": {},
   "outputs": [
    {
     "data": {
      "text/plain": [
       "40.5"
      ]
     },
     "execution_count": 13,
     "metadata": {},
     "output_type": "execute_result"
    }
   ],
   "source": [
    "student_age"
   ]
  },
  {
   "cell_type": "code",
   "execution_count": 7,
   "id": "fe8fd570",
   "metadata": {},
   "outputs": [
    {
     "name": "stdout",
     "output_type": "stream",
     "text": [
      "enter your namenasir\n",
      "enter your age32\n"
     ]
    },
    {
     "ename": "TypeError",
     "evalue": "can only concatenate str (not \"int\") to str",
     "output_type": "error",
     "traceback": [
      "\u001b[1;31m---------------------------------------------------------------------------\u001b[0m",
      "\u001b[1;31mTypeError\u001b[0m                                 Traceback (most recent call last)",
      "Input \u001b[1;32mIn [7]\u001b[0m, in \u001b[0;36m<cell line: 4>\u001b[1;34m()\u001b[0m\n\u001b[0;32m      1\u001b[0m student_name \u001b[38;5;241m=\u001b[39m \u001b[38;5;28minput\u001b[39m(\u001b[38;5;124m\"\u001b[39m\u001b[38;5;124menter your name\u001b[39m\u001b[38;5;124m\"\u001b[39m)\n\u001b[0;32m      2\u001b[0m student_age \u001b[38;5;241m=\u001b[39m\u001b[38;5;28mint\u001b[39m(\u001b[38;5;28minput\u001b[39m(\u001b[38;5;124m\"\u001b[39m\u001b[38;5;124menter your age\u001b[39m\u001b[38;5;124m\"\u001b[39m))   \n\u001b[1;32m----> 4\u001b[0m \u001b[38;5;28mprint\u001b[39m(\u001b[38;5;124;43m\"\u001b[39;49m\u001b[38;5;124;43myour name is\u001b[39;49m\u001b[38;5;124;43m\"\u001b[39;49m\u001b[38;5;241;43m+\u001b[39;49m\u001b[43mstudent_name\u001b[49m\u001b[38;5;241;43m+\u001b[39;49m\u001b[38;5;124;43m\"\u001b[39;49m\u001b[38;5;124;43m and your year of birth is \u001b[39;49m\u001b[38;5;124;43m\"\u001b[39;49m\u001b[38;5;241;43m+\u001b[39;49m\u001b[43mstudent_age\u001b[49m)\n",
      "\u001b[1;31mTypeError\u001b[0m: can only concatenate str (not \"int\") to str"
     ]
    }
   ],
   "source": [
    "student_name = input(\"enter your name\")\n",
    "student_age =int(input(\"enter your age\"))   \n",
    "\n",
    "print(\"your name is\"+student_name+\" and your year of birth is \"+student_age)"
   ]
  },
  {
   "cell_type": "code",
   "execution_count": 9,
   "id": "903ab8b2",
   "metadata": {},
   "outputs": [
    {
     "ename": "SyntaxError",
     "evalue": "unmatched ')' (3147767646.py, line 4)",
     "output_type": "error",
     "traceback": [
      "\u001b[1;36m  Input \u001b[1;32mIn [9]\u001b[1;36m\u001b[0m\n\u001b[1;33m    print(\"your name is \"+student_name+\" and your year of birth is \"+str(student_age))   )\u001b[0m\n\u001b[1;37m                                                                                         ^\u001b[0m\n\u001b[1;31mSyntaxError\u001b[0m\u001b[1;31m:\u001b[0m unmatched ')'\n"
     ]
    }
   ],
   "source": [
    "student_name =input(\"enter your name\") \n",
    "student_age =int(input(\"enter your age\"))  \n",
    "\n",
    "print(\"your name is \"+student_name+\" and your year of birth is \"+str(student_age))   )"
   ]
  },
  {
   "cell_type": "code",
   "execution_count": 10,
   "id": "9e4871ec",
   "metadata": {},
   "outputs": [
    {
     "name": "stdout",
     "output_type": "stream",
     "text": [
      "enter your nameshahid\n",
      "enter your age34\n",
      "your nameisshahid and your year of birth is34\n"
     ]
    }
   ],
   "source": [
    "student_name =input(\"enter your name\")  \n",
    "student_age =int(input(\"enter your age\")) \n",
    "\n",
    "print(\"your nameis\"+student_name+\" and your year of birth is\"+str(student_age))\n",
    "                    "
   ]
  },
  {
   "cell_type": "markdown",
   "id": "b4a6c77c",
   "metadata": {},
   "source": [
    "# string formation \n",
    " format(value1,value2...) ,\n",
    " it is easier,simple than concatenation,\n",
    "  it doesnot need type casting"
   ]
  },
  {
   "cell_type": "code",
   "execution_count": null,
   "id": "de3b1023",
   "metadata": {},
   "outputs": [],
   "source": []
  },
  {
   "cell_type": "code",
   "execution_count": null,
   "id": "93eef1e1",
   "metadata": {},
   "outputs": [],
   "source": []
  }
 ],
 "metadata": {
  "kernelspec": {
   "display_name": "Python 3 (ipykernel)",
   "language": "python",
   "name": "python3"
  },
  "language_info": {
   "codemirror_mode": {
    "name": "ipython",
    "version": 3
   },
   "file_extension": ".py",
   "mimetype": "text/x-python",
   "name": "python",
   "nbconvert_exporter": "python",
   "pygments_lexer": "ipython3",
   "version": "3.9.12"
  }
 },
 "nbformat": 4,
 "nbformat_minor": 5
}
